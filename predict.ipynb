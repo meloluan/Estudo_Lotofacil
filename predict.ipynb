{
  "nbformat": 4,
  "nbformat_minor": 0,
  "metadata": {
    "kernelspec": {
      "name": "python3",
      "display_name": "Python 3"
    },
    "colab": {
      "name": "predict.ipynb",
      "provenance": []
    }
  },
  "cells": [
    {
      "cell_type": "markdown",
      "metadata": {
        "id": "L-A-n7wAfGZv"
      },
      "source": [
        "# Importando bibliotecas"
      ]
    },
    {
      "cell_type": "code",
      "metadata": {
        "id": "1zA1OUWCfGZz"
      },
      "source": [
        "import pandas              as pd\n",
        "import numpy               as np\n",
        "import matplotlib.pyplot   as plt\n",
        "import seaborn             as sns\n",
        "import missingno           as msno\n",
        "import requests \n",
        "import zipfile\n",
        "from bs4 import BeautifulSoup\n",
        "import lxml\n",
        "import math\n",
        "\n",
        "%matplotlib inline\n",
        "\n",
        "pd.set_option('display.max_columns',500)"
      ],
      "execution_count": 215,
      "outputs": []
    },
    {
      "cell_type": "markdown",
      "metadata": {
        "id": "WUyIyZfZfGZ0"
      },
      "source": [
        "# Carregando dataset"
      ]
    },
    {
      "cell_type": "markdown",
      "metadata": {
        "id": "3qFcBGEmfGZ0"
      },
      "source": [
        "### Download e extrai zip"
      ]
    },
    {
      "cell_type": "code",
      "metadata": {
        "id": "oEGmXgZ6fGZ0"
      },
      "source": [
        "url = 'http://www1.caixa.gov.br/loterias/_arquivos/loterias/D_lotfac.zip'\n",
        "target_path = 'D_lotfac.zip'\n",
        "\n",
        "response = requests.get(url, stream=True)\n",
        "handle = open(target_path, \"wb\")\n",
        "for chunk in response.iter_content(chunk_size=512):\n",
        "    if chunk:  # filter out keep-alive new chunks\n",
        "        handle.write(chunk)\n",
        "handle.close()\n",
        "with zipfile.ZipFile(target_path) as zf:\n",
        "    zf.extractall()"
      ],
      "execution_count": 20,
      "outputs": []
    },
    {
      "cell_type": "markdown",
      "metadata": {
        "id": "pL4OuZisfGZ1"
      },
      "source": [
        "### Parser no html extraído"
      ]
    },
    {
      "cell_type": "code",
      "metadata": {
        "id": "hyK6Tz6ifGZ1"
      },
      "source": [
        "fileHtml = 'd_lotfac.htm'\n",
        "\n",
        "f = open(fileHtml, 'r', encoding='latin-1') \n",
        "table=f.read()\n",
        "\n",
        "soup = BeautifulSoup(table, 'html.parser')\n",
        "table = soup.find(name='table')\n",
        "\n",
        "table_str = str(table)\n",
        "df = pd.read_html(table_str)[0]"
      ],
      "execution_count": 21,
      "outputs": []
    },
    {
      "cell_type": "markdown",
      "metadata": {
        "id": "J6ycI2xtfGZ1"
      },
      "source": [
        "# Check dataset"
      ]
    },
    {
      "cell_type": "code",
      "metadata": {
        "colab": {
          "base_uri": "https://localhost:8080/"
        },
        "id": "Z0wW5lD_fGZ1",
        "outputId": "5a0894a8-e913-4a30-dc3a-3bbe15760d32"
      },
      "source": [
        "df.shape"
      ],
      "execution_count": 22,
      "outputs": [
        {
          "output_type": "execute_result",
          "data": {
            "text/plain": [
              "(8483, 33)"
            ]
          },
          "metadata": {
            "tags": []
          },
          "execution_count": 22
        }
      ]
    },
    {
      "cell_type": "code",
      "metadata": {
        "colab": {
          "base_uri": "https://localhost:8080/"
        },
        "id": "6SCiNzf9fGZ2",
        "outputId": "398f91ca-b0a5-45aa-8e1c-91d334f35f4d"
      },
      "source": [
        "df.dtypes"
      ],
      "execution_count": 23,
      "outputs": [
        {
          "output_type": "execute_result",
          "data": {
            "text/plain": [
              "Concurso                      int64\n",
              "Data Sorteio                 object\n",
              "Bola1                         int64\n",
              "Bola2                         int64\n",
              "Bola3                         int64\n",
              "Bola4                         int64\n",
              "Bola5                         int64\n",
              "Bola6                         int64\n",
              "Bola7                         int64\n",
              "Bola8                         int64\n",
              "Bola9                         int64\n",
              "Bola10                        int64\n",
              "Bola11                        int64\n",
              "Bola12                        int64\n",
              "Bola13                        int64\n",
              "Bola14                        int64\n",
              "Bola15                        int64\n",
              "Arrecadacao_Total            object\n",
              "Ganhadores_15_Números         int64\n",
              "Cidade                       object\n",
              "UF                           object\n",
              "Ganhadores_14_Números         int64\n",
              "Ganhadores_13_Números         int64\n",
              "Ganhadores_12_Números         int64\n",
              "Ganhadores_11_Números         int64\n",
              "Valor_Rateio_15_Números      object\n",
              "Valor_Rateio_14_Números     float64\n",
              "Valor_Rateio_13_Números       int64\n",
              "Valor_Rateio_12_Números       int64\n",
              "Valor_Rateio_11_Números       int64\n",
              "Acumulado_15_Números         object\n",
              "Estimativa_Premio            object\n",
              "Valor_Acumulado_Especial     object\n",
              "dtype: object"
            ]
          },
          "metadata": {
            "tags": []
          },
          "execution_count": 23
        }
      ]
    },
    {
      "cell_type": "markdown",
      "metadata": {
        "id": "BK8vKTUefGZ2"
      },
      "source": [
        "# Transformando dados"
      ]
    },
    {
      "cell_type": "code",
      "metadata": {
        "id": "BOqZoeZUfGZ3"
      },
      "source": [
        "df['data_sorteio_conv'] = df.iloc[:,1]\n",
        "df.data_sorteio_conv = pd.to_datetime(df.data_sorteio_conv)\n",
        "\n",
        "df['day']   = df.data_sorteio_conv.dt.day\n",
        "df['month'] = df.data_sorteio_conv.dt.month \n",
        "df['year']  = df.data_sorteio_conv.dt.year"
      ],
      "execution_count": 24,
      "outputs": []
    },
    {
      "cell_type": "code",
      "metadata": {
        "colab": {
          "base_uri": "https://localhost:8080/",
          "height": 241
        },
        "id": "0_m_0tOOfGZ3",
        "outputId": "581e3cc0-9593-48b8-d28c-46e278959b6e"
      },
      "source": [
        "df_ganhadores = df[:]\n",
        "\n",
        "df_ganhadores.head()"
      ],
      "execution_count": 25,
      "outputs": [
        {
          "output_type": "execute_result",
          "data": {
            "text/html": [
              "<div>\n",
              "<style scoped>\n",
              "    .dataframe tbody tr th:only-of-type {\n",
              "        vertical-align: middle;\n",
              "    }\n",
              "\n",
              "    .dataframe tbody tr th {\n",
              "        vertical-align: top;\n",
              "    }\n",
              "\n",
              "    .dataframe thead th {\n",
              "        text-align: right;\n",
              "    }\n",
              "</style>\n",
              "<table border=\"1\" class=\"dataframe\">\n",
              "  <thead>\n",
              "    <tr style=\"text-align: right;\">\n",
              "      <th></th>\n",
              "      <th>Concurso</th>\n",
              "      <th>Data Sorteio</th>\n",
              "      <th>Bola1</th>\n",
              "      <th>Bola2</th>\n",
              "      <th>Bola3</th>\n",
              "      <th>Bola4</th>\n",
              "      <th>Bola5</th>\n",
              "      <th>Bola6</th>\n",
              "      <th>Bola7</th>\n",
              "      <th>Bola8</th>\n",
              "      <th>Bola9</th>\n",
              "      <th>Bola10</th>\n",
              "      <th>Bola11</th>\n",
              "      <th>Bola12</th>\n",
              "      <th>Bola13</th>\n",
              "      <th>Bola14</th>\n",
              "      <th>Bola15</th>\n",
              "      <th>Arrecadacao_Total</th>\n",
              "      <th>Ganhadores_15_Números</th>\n",
              "      <th>Cidade</th>\n",
              "      <th>UF</th>\n",
              "      <th>Ganhadores_14_Números</th>\n",
              "      <th>Ganhadores_13_Números</th>\n",
              "      <th>Ganhadores_12_Números</th>\n",
              "      <th>Ganhadores_11_Números</th>\n",
              "      <th>Valor_Rateio_15_Números</th>\n",
              "      <th>Valor_Rateio_14_Números</th>\n",
              "      <th>Valor_Rateio_13_Números</th>\n",
              "      <th>Valor_Rateio_12_Números</th>\n",
              "      <th>Valor_Rateio_11_Números</th>\n",
              "      <th>Acumulado_15_Números</th>\n",
              "      <th>Estimativa_Premio</th>\n",
              "      <th>Valor_Acumulado_Especial</th>\n",
              "      <th>data_sorteio_conv</th>\n",
              "      <th>day</th>\n",
              "      <th>month</th>\n",
              "      <th>year</th>\n",
              "    </tr>\n",
              "  </thead>\n",
              "  <tbody>\n",
              "    <tr>\n",
              "      <th>0</th>\n",
              "      <td>1</td>\n",
              "      <td>29/09/2003</td>\n",
              "      <td>18</td>\n",
              "      <td>20</td>\n",
              "      <td>25</td>\n",
              "      <td>23</td>\n",
              "      <td>10</td>\n",
              "      <td>11</td>\n",
              "      <td>24</td>\n",
              "      <td>14</td>\n",
              "      <td>6</td>\n",
              "      <td>2</td>\n",
              "      <td>13</td>\n",
              "      <td>9</td>\n",
              "      <td>5</td>\n",
              "      <td>16</td>\n",
              "      <td>3</td>\n",
              "      <td>000</td>\n",
              "      <td>5</td>\n",
              "      <td>NaN</td>\n",
              "      <td>BA</td>\n",
              "      <td>154</td>\n",
              "      <td>4645</td>\n",
              "      <td>48807</td>\n",
              "      <td>257593</td>\n",
              "      <td>49.76582</td>\n",
              "      <td>68984.0</td>\n",
              "      <td>1000</td>\n",
              "      <td>400</td>\n",
              "      <td>200</td>\n",
              "      <td>000</td>\n",
              "      <td>000</td>\n",
              "      <td>000</td>\n",
              "      <td>2003-09-29</td>\n",
              "      <td>29</td>\n",
              "      <td>9</td>\n",
              "      <td>2003</td>\n",
              "    </tr>\n",
              "    <tr>\n",
              "      <th>1</th>\n",
              "      <td>1</td>\n",
              "      <td>29/09/2003</td>\n",
              "      <td>18</td>\n",
              "      <td>20</td>\n",
              "      <td>25</td>\n",
              "      <td>23</td>\n",
              "      <td>10</td>\n",
              "      <td>11</td>\n",
              "      <td>24</td>\n",
              "      <td>14</td>\n",
              "      <td>6</td>\n",
              "      <td>2</td>\n",
              "      <td>13</td>\n",
              "      <td>9</td>\n",
              "      <td>5</td>\n",
              "      <td>16</td>\n",
              "      <td>3</td>\n",
              "      <td>000</td>\n",
              "      <td>5</td>\n",
              "      <td>NaN</td>\n",
              "      <td>PR</td>\n",
              "      <td>154</td>\n",
              "      <td>4645</td>\n",
              "      <td>48807</td>\n",
              "      <td>257593</td>\n",
              "      <td>49.76582</td>\n",
              "      <td>68984.0</td>\n",
              "      <td>1000</td>\n",
              "      <td>400</td>\n",
              "      <td>200</td>\n",
              "      <td>000</td>\n",
              "      <td>000</td>\n",
              "      <td>000</td>\n",
              "      <td>2003-09-29</td>\n",
              "      <td>29</td>\n",
              "      <td>9</td>\n",
              "      <td>2003</td>\n",
              "    </tr>\n",
              "    <tr>\n",
              "      <th>2</th>\n",
              "      <td>1</td>\n",
              "      <td>29/09/2003</td>\n",
              "      <td>18</td>\n",
              "      <td>20</td>\n",
              "      <td>25</td>\n",
              "      <td>23</td>\n",
              "      <td>10</td>\n",
              "      <td>11</td>\n",
              "      <td>24</td>\n",
              "      <td>14</td>\n",
              "      <td>6</td>\n",
              "      <td>2</td>\n",
              "      <td>13</td>\n",
              "      <td>9</td>\n",
              "      <td>5</td>\n",
              "      <td>16</td>\n",
              "      <td>3</td>\n",
              "      <td>000</td>\n",
              "      <td>5</td>\n",
              "      <td>NaN</td>\n",
              "      <td>SP</td>\n",
              "      <td>154</td>\n",
              "      <td>4645</td>\n",
              "      <td>48807</td>\n",
              "      <td>257593</td>\n",
              "      <td>49.76582</td>\n",
              "      <td>68984.0</td>\n",
              "      <td>1000</td>\n",
              "      <td>400</td>\n",
              "      <td>200</td>\n",
              "      <td>000</td>\n",
              "      <td>000</td>\n",
              "      <td>000</td>\n",
              "      <td>2003-09-29</td>\n",
              "      <td>29</td>\n",
              "      <td>9</td>\n",
              "      <td>2003</td>\n",
              "    </tr>\n",
              "    <tr>\n",
              "      <th>3</th>\n",
              "      <td>1</td>\n",
              "      <td>29/09/2003</td>\n",
              "      <td>18</td>\n",
              "      <td>20</td>\n",
              "      <td>25</td>\n",
              "      <td>23</td>\n",
              "      <td>10</td>\n",
              "      <td>11</td>\n",
              "      <td>24</td>\n",
              "      <td>14</td>\n",
              "      <td>6</td>\n",
              "      <td>2</td>\n",
              "      <td>13</td>\n",
              "      <td>9</td>\n",
              "      <td>5</td>\n",
              "      <td>16</td>\n",
              "      <td>3</td>\n",
              "      <td>000</td>\n",
              "      <td>5</td>\n",
              "      <td>NaN</td>\n",
              "      <td>SP</td>\n",
              "      <td>154</td>\n",
              "      <td>4645</td>\n",
              "      <td>48807</td>\n",
              "      <td>257593</td>\n",
              "      <td>49.76582</td>\n",
              "      <td>68984.0</td>\n",
              "      <td>1000</td>\n",
              "      <td>400</td>\n",
              "      <td>200</td>\n",
              "      <td>000</td>\n",
              "      <td>000</td>\n",
              "      <td>000</td>\n",
              "      <td>2003-09-29</td>\n",
              "      <td>29</td>\n",
              "      <td>9</td>\n",
              "      <td>2003</td>\n",
              "    </tr>\n",
              "    <tr>\n",
              "      <th>4</th>\n",
              "      <td>1</td>\n",
              "      <td>29/09/2003</td>\n",
              "      <td>18</td>\n",
              "      <td>20</td>\n",
              "      <td>25</td>\n",
              "      <td>23</td>\n",
              "      <td>10</td>\n",
              "      <td>11</td>\n",
              "      <td>24</td>\n",
              "      <td>14</td>\n",
              "      <td>6</td>\n",
              "      <td>2</td>\n",
              "      <td>13</td>\n",
              "      <td>9</td>\n",
              "      <td>5</td>\n",
              "      <td>16</td>\n",
              "      <td>3</td>\n",
              "      <td>000</td>\n",
              "      <td>5</td>\n",
              "      <td>NaN</td>\n",
              "      <td>SP</td>\n",
              "      <td>154</td>\n",
              "      <td>4645</td>\n",
              "      <td>48807</td>\n",
              "      <td>257593</td>\n",
              "      <td>49.76582</td>\n",
              "      <td>68984.0</td>\n",
              "      <td>1000</td>\n",
              "      <td>400</td>\n",
              "      <td>200</td>\n",
              "      <td>000</td>\n",
              "      <td>000</td>\n",
              "      <td>000</td>\n",
              "      <td>2003-09-29</td>\n",
              "      <td>29</td>\n",
              "      <td>9</td>\n",
              "      <td>2003</td>\n",
              "    </tr>\n",
              "  </tbody>\n",
              "</table>\n",
              "</div>"
            ],
            "text/plain": [
              "   Concurso Data Sorteio  Bola1  Bola2  Bola3  Bola4  Bola5  Bola6  Bola7  \\\n",
              "0         1   29/09/2003     18     20     25     23     10     11     24   \n",
              "1         1   29/09/2003     18     20     25     23     10     11     24   \n",
              "2         1   29/09/2003     18     20     25     23     10     11     24   \n",
              "3         1   29/09/2003     18     20     25     23     10     11     24   \n",
              "4         1   29/09/2003     18     20     25     23     10     11     24   \n",
              "\n",
              "   Bola8  Bola9  Bola10  Bola11  Bola12  Bola13  Bola14  Bola15  \\\n",
              "0     14      6       2      13       9       5      16       3   \n",
              "1     14      6       2      13       9       5      16       3   \n",
              "2     14      6       2      13       9       5      16       3   \n",
              "3     14      6       2      13       9       5      16       3   \n",
              "4     14      6       2      13       9       5      16       3   \n",
              "\n",
              "  Arrecadacao_Total  Ganhadores_15_Números Cidade  UF  Ganhadores_14_Números  \\\n",
              "0               000                      5    NaN  BA                    154   \n",
              "1               000                      5    NaN  PR                    154   \n",
              "2               000                      5    NaN  SP                    154   \n",
              "3               000                      5    NaN  SP                    154   \n",
              "4               000                      5    NaN  SP                    154   \n",
              "\n",
              "   Ganhadores_13_Números  Ganhadores_12_Números  Ganhadores_11_Números  \\\n",
              "0                   4645                  48807                 257593   \n",
              "1                   4645                  48807                 257593   \n",
              "2                   4645                  48807                 257593   \n",
              "3                   4645                  48807                 257593   \n",
              "4                   4645                  48807                 257593   \n",
              "\n",
              "  Valor_Rateio_15_Números  Valor_Rateio_14_Números  Valor_Rateio_13_Números  \\\n",
              "0                49.76582                  68984.0                     1000   \n",
              "1                49.76582                  68984.0                     1000   \n",
              "2                49.76582                  68984.0                     1000   \n",
              "3                49.76582                  68984.0                     1000   \n",
              "4                49.76582                  68984.0                     1000   \n",
              "\n",
              "   Valor_Rateio_12_Números  Valor_Rateio_11_Números Acumulado_15_Números  \\\n",
              "0                      400                      200                  000   \n",
              "1                      400                      200                  000   \n",
              "2                      400                      200                  000   \n",
              "3                      400                      200                  000   \n",
              "4                      400                      200                  000   \n",
              "\n",
              "  Estimativa_Premio Valor_Acumulado_Especial data_sorteio_conv  day  month  \\\n",
              "0               000                      000        2003-09-29   29      9   \n",
              "1               000                      000        2003-09-29   29      9   \n",
              "2               000                      000        2003-09-29   29      9   \n",
              "3               000                      000        2003-09-29   29      9   \n",
              "4               000                      000        2003-09-29   29      9   \n",
              "\n",
              "   year  \n",
              "0  2003  \n",
              "1  2003  \n",
              "2  2003  \n",
              "3  2003  \n",
              "4  2003  "
            ]
          },
          "metadata": {
            "tags": []
          },
          "execution_count": 25
        }
      ]
    },
    {
      "cell_type": "markdown",
      "metadata": {
        "id": "twk8TJYOfGZ3"
      },
      "source": [
        "# Limpando dataset"
      ]
    },
    {
      "cell_type": "code",
      "metadata": {
        "colab": {
          "base_uri": "https://localhost:8080/",
          "height": 500
        },
        "id": "tdPj5M_ifGZ3",
        "outputId": "bb8992da-364b-411e-a1e0-3af4581100af"
      },
      "source": [
        "# Visão geral do dataframe\n",
        "msno.matrix(df=df.iloc[:,0:df.shape[1]], figsize=(20, 5), color=(0.42, 0.1, 0.05))"
      ],
      "execution_count": 26,
      "outputs": [
        {
          "output_type": "execute_result",
          "data": {
            "text/plain": [
              "<matplotlib.axes._subplots.AxesSubplot at 0x7fac8dd0c470>"
            ]
          },
          "metadata": {
            "tags": []
          },
          "execution_count": 26
        },
        {
          "output_type": "display_data",
          "data": {
            "image/png": "[encoded data removed]",
            "text/plain": [
              "<Figure size 1440x360 with 2 Axes>"
            ]
          },
          "metadata": {
            "tags": [],
            "needs_background": "light"
          }
        }
      ]
    },
    {
      "cell_type": "code",
      "metadata": {
        "colab": {
          "base_uri": "https://localhost:8080/",
          "height": 500
        },
        "id": "h3L9C91wfGZ3",
        "outputId": "17e6fe1b-ba97-46c1-acd7-472e644ff0e2"
      },
      "source": [
        "# Removendo valores nulos \n",
        "df = df.dropna(subset=['Concurso'])\n",
        "msno.matrix(df=df.iloc[:,0:df.shape[1]], figsize=(20, 5), color=(0.42, 0.1, 0.05))"
      ],
      "execution_count": 27,
      "outputs": [
        {
          "output_type": "execute_result",
          "data": {
            "text/plain": [
              "<matplotlib.axes._subplots.AxesSubplot at 0x7fac8def2c50>"
            ]
          },
          "metadata": {
            "tags": []
          },
          "execution_count": 27
        },
        {
          "output_type": "display_data",
          "data": {
            "image/png": "[encoded data removed]",
            "text/plain": [
              "<Figure size 1440x360 with 2 Axes>"
            ]
          },
          "metadata": {
            "tags": [],
            "needs_background": "light"
          }
        }
      ]
    },
    {
      "cell_type": "code",
      "metadata": {
        "colab": {
          "base_uri": "https://localhost:8080/",
          "height": 500
        },
        "id": "xPBE_l21fGZ4",
        "outputId": "7ef6374b-01a4-422f-b3f5-89d8100523c0"
      },
      "source": [
        "# Removendo colunas Cidade e UF\n",
        "df = df.drop(['Cidade', 'UF'], axis=1)\n",
        "msno.matrix(df=df.iloc[:,0:df.shape[1]], figsize=(20, 5), color=(0.42, 0.1, 0.05))"
      ],
      "execution_count": 28,
      "outputs": [
        {
          "output_type": "execute_result",
          "data": {
            "text/plain": [
              "<matplotlib.axes._subplots.AxesSubplot at 0x7fac8e0d5d68>"
            ]
          },
          "metadata": {
            "tags": []
          },
          "execution_count": 28
        },
        {
          "output_type": "display_data",
          "data": {
            "image/png": "[encoded data removed]",
            "text/plain": [
              "<Figure size 1440x360 with 2 Axes>"
            ]
          },
          "metadata": {
            "tags": [],
            "needs_background": "light"
          }
        }
      ]
    },
    {
      "cell_type": "markdown",
      "metadata": {
        "id": "FpXZsxY9fGZ4"
      },
      "source": [
        "# Exploratory Data Analysis"
      ]
    },
    {
      "cell_type": "markdown",
      "metadata": {
        "id": "fSZkVIm4fGZ4"
      },
      "source": [
        "### Analisando sorteio com ganhadores"
      ]
    },
    {
      "cell_type": "code",
      "metadata": {
        "colab": {
          "base_uri": "https://localhost:8080/",
          "height": 359
        },
        "id": "NGMr8je1fGZ4",
        "outputId": "5dc0c20a-b660-43d5-dd35-288d003d5b62"
      },
      "source": [
        "# Ganhadores X Volume do Prêmio por Estado \n",
        "\n",
        "ax = df_ganhadores.groupby(['UF'])['Ganhadores_13_Números'].agg('sum').sort_values(ascending=False).plot(kind='bar', title='Ganhadores por Estado', figsize=(15,5), fontsize=12, legend=True, position=1, color='gray')\n",
        "\n",
        "# df_ganhadores.groupby(['UF'])['Rateio_Sena'].agg('sum').sort_values(ascending=False).plot(kind='bar', ax=ax, secondary_y=True, legend=True, position=0, color='blue')"
      ],
      "execution_count": 29,
      "outputs": [
        {
          "output_type": "display_data",
          "data": {
            "image/png": "[encoded data removed]",
            "text/plain": [
              "<Figure size 1080x360 with 1 Axes>"
            ]
          },
          "metadata": {
            "tags": [],
            "needs_background": "light"
          }
        }
      ]
    },
    {
      "cell_type": "code",
      "metadata": {
        "colab": {
          "base_uri": "https://localhost:8080/",
          "height": 372
        },
        "id": "syyFNQZIfGZ4",
        "outputId": "bbda63bd-7809-4907-ea27-812465454721"
      },
      "source": [
        "# Ganhadores X Mes\n",
        "\n",
        "# Ganhadores X Volume do Prêmio por Estado \n",
        "df_ganhadores.groupby(['month'])['Ganhadores_15_Números'].agg('sum').plot(kind='bar', title='Ganhadores X Mês', fontsize=12, figsize=(15,5), legend=True, color='gray')"
      ],
      "execution_count": 30,
      "outputs": [
        {
          "output_type": "execute_result",
          "data": {
            "text/plain": [
              "<matplotlib.axes._subplots.AxesSubplot at 0x7fac8e1fb908>"
            ]
          },
          "metadata": {
            "tags": []
          },
          "execution_count": 30
        },
        {
          "output_type": "display_data",
          "data": {
            "image/png": "[encoded data removed]",
            "text/plain": [
              "<Figure size 1080x360 with 1 Axes>"
            ]
          },
          "metadata": {
            "tags": [],
            "needs_background": "light"
          }
        }
      ]
    },
    {
      "cell_type": "markdown",
      "metadata": {
        "id": "HTw4i3M9fGZ5"
      },
      "source": [
        "### Analisando dezenas sorteadas"
      ]
    },
    {
      "cell_type": "code",
      "metadata": {
        "colab": {
          "base_uri": "https://localhost:8080/"
        },
        "id": "_1tmOl9-fGZ5",
        "outputId": "b4c8b543-b7c0-4866-ef5d-aff92f1a300f"
      },
      "source": [
        "# Verificando se alguma vez as dezenas se repetiram na mesma ordem\n",
        "\n",
        "df.groupby(['Bola1','Bola2', 'Bola3', 'Bola4', 'Bola5', 'Bola6','Bola7', 'Bola8', 'Bola9', 'Bola10', 'Bola11','Bola12', 'Bola13', 'Bola14', 'Bola15']).size().sort_values(ascending=False)"
      ],
      "execution_count": 31,
      "outputs": [
        {
          "output_type": "execute_result",
          "data": {
            "text/plain": [
              "Bola1  Bola2  Bola3  Bola4  Bola5  Bola6  Bola7  Bola8  Bola9  Bola10  Bola11  Bola12  Bola13  Bola14  Bola15\n",
              "16     11     3      5      22     4      18     8      24     7       1       9       14      13      19        103\n",
              "       18     13     24     19     23     22     10     6      8       1       5       11      3       15         94\n",
              "12     3      18     17     6      4      8      11     14     23      19      21      25      22      1          66\n",
              "14     13     2      6      4      25     16     1      9      21      20      7       23      18      10         51\n",
              "10     1      4      25     19     7      22     11     9      23      17      14      13      18      3          50\n",
              "                                                                                                                ... \n",
              "11     14     1      5      2      12     3      4      13     17      24      9       15      21      22          1\n",
              "       12     13     8      16     24     25     5      15     9       21      1       4       6       14          1\n",
              "       9      18     17     5      19     23     1      4      2       25      7       24      21      6           1\n",
              "23     22     9      10     8      19     17     12     1      2       18      21      4       16      7           1\n",
              "13     19     10     21     18     24     1      17     20     11      23      6       12      15      5           1\n",
              "Length: 2112, dtype: int64"
            ]
          },
          "metadata": {
            "tags": []
          },
          "execution_count": 31
        }
      ]
    },
    {
      "cell_type": "code",
      "metadata": {
        "colab": {
          "base_uri": "https://localhost:8080/",
          "height": 356
        },
        "id": "OYmqCcOWfGZ5",
        "outputId": "7ffc6bb4-e446-4088-d90f-a93f93b892d1"
      },
      "source": [
        "# As dezenas mais sorteadas em todos os jogos\n",
        "\n",
        "dezenas = pd.DataFrame(df['Bola1'].tolist() + df['Bola2'].tolist() + df['Bola3'].tolist() + df['Bola4'].tolist() + df['Bola5'].tolist() + df['Bola6'].tolist() +df['Bola7'].tolist() + df['Bola8'].tolist() + df['Bola9'].tolist() + df['Bola10'].tolist() + df['Bola11'].tolist() + df['Bola12'].tolist() +\n",
        "df['Bola13'].tolist() + df['Bola14'].tolist() + df['Bola15'].tolist(), columns=['numeros'])\n",
        "\n",
        "dezenas['numeros'].value_counts().sort_values(ascending=True).plot(kind='barh', title='As quinze dezenas mais sorteadas em todos os jogos', figsize=(10,5), fontsize=12, legend=True, color='gray')"
      ],
      "execution_count": 32,
      "outputs": [
        {
          "output_type": "execute_result",
          "data": {
            "text/plain": [
              "<matplotlib.axes._subplots.AxesSubplot at 0x7fac8dfd88d0>"
            ]
          },
          "metadata": {
            "tags": []
          },
          "execution_count": 32
        },
        {
          "output_type": "display_data",
          "data": {
            "image/png": "[encoded data removed]",
            "text/plain": [
              "<Figure size 720x360 with 1 Axes>"
            ]
          },
          "metadata": {
            "tags": [],
            "needs_background": "light"
          }
        }
      ]
    },
    {
      "cell_type": "markdown",
      "metadata": {
        "id": "fkHjnYlpfGZ6"
      },
      "source": [
        "# Preparando o dataset para o modelo"
      ]
    },
    {
      "cell_type": "code",
      "metadata": {
        "colab": {
          "base_uri": "https://localhost:8080/",
          "height": 514
        },
        "id": "Rrp9giQGfGZ6",
        "outputId": "95f21220-cb2c-484d-eec7-121a099d7a34"
      },
      "source": [
        "# Criando dataframe que vamos usar nos modelos \n",
        "\n",
        "df_clean = df\n",
        "index = 0\n",
        "anterior = ''\n",
        "for concurso in df['Concurso']:\n",
        "    if(concurso == anterior):\n",
        "        df_clean = df_clean.drop(index)\n",
        "    index += 1\n",
        "    anterior = concurso\n",
        "\n",
        "df_clean.shape\n",
        "\n",
        "df_nn = df_clean[['Bola1','Bola2', 'Bola3', 'Bola4', 'Bola5', 'Bola6','Bola7', 'Bola8', 'Bola9', 'Bola10', 'Bola11','Bola12', 'Bola13', 'Bola14', 'Bola15', 'Ganhadores_15_Números']] \n",
        "\n",
        "# Deixando os nomes das coluna em minusculo\n",
        "df_nn.columns = map(str.lower, df_nn.columns)\n",
        "\n",
        "df_nn.head(15)"
      ],
      "execution_count": 33,
      "outputs": [
        {
          "output_type": "execute_result",
          "data": {
            "text/html": [
              "<div>\n",
              "<style scoped>\n",
              "    .dataframe tbody tr th:only-of-type {\n",
              "        vertical-align: middle;\n",
              "    }\n",
              "\n",
              "    .dataframe tbody tr th {\n",
              "        vertical-align: top;\n",
              "    }\n",
              "\n",
              "    .dataframe thead th {\n",
              "        text-align: right;\n",
              "    }\n",
              "</style>\n",
              "<table border=\"1\" class=\"dataframe\">\n",
              "  <thead>\n",
              "    <tr style=\"text-align: right;\">\n",
              "      <th></th>\n",
              "      <th>bola1</th>\n",
              "      <th>bola2</th>\n",
              "      <th>bola3</th>\n",
              "      <th>bola4</th>\n",
              "      <th>bola5</th>\n",
              "      <th>bola6</th>\n",
              "      <th>bola7</th>\n",
              "      <th>bola8</th>\n",
              "      <th>bola9</th>\n",
              "      <th>bola10</th>\n",
              "      <th>bola11</th>\n",
              "      <th>bola12</th>\n",
              "      <th>bola13</th>\n",
              "      <th>bola14</th>\n",
              "      <th>bola15</th>\n",
              "      <th>ganhadores_15_números</th>\n",
              "    </tr>\n",
              "  </thead>\n",
              "  <tbody>\n",
              "    <tr>\n",
              "      <th>0</th>\n",
              "      <td>18</td>\n",
              "      <td>20</td>\n",
              "      <td>25</td>\n",
              "      <td>23</td>\n",
              "      <td>10</td>\n",
              "      <td>11</td>\n",
              "      <td>24</td>\n",
              "      <td>14</td>\n",
              "      <td>6</td>\n",
              "      <td>2</td>\n",
              "      <td>13</td>\n",
              "      <td>9</td>\n",
              "      <td>5</td>\n",
              "      <td>16</td>\n",
              "      <td>3</td>\n",
              "      <td>5</td>\n",
              "    </tr>\n",
              "    <tr>\n",
              "      <th>5</th>\n",
              "      <td>23</td>\n",
              "      <td>15</td>\n",
              "      <td>5</td>\n",
              "      <td>4</td>\n",
              "      <td>12</td>\n",
              "      <td>16</td>\n",
              "      <td>20</td>\n",
              "      <td>6</td>\n",
              "      <td>11</td>\n",
              "      <td>19</td>\n",
              "      <td>24</td>\n",
              "      <td>1</td>\n",
              "      <td>9</td>\n",
              "      <td>13</td>\n",
              "      <td>7</td>\n",
              "      <td>1</td>\n",
              "    </tr>\n",
              "    <tr>\n",
              "      <th>6</th>\n",
              "      <td>20</td>\n",
              "      <td>23</td>\n",
              "      <td>12</td>\n",
              "      <td>8</td>\n",
              "      <td>6</td>\n",
              "      <td>1</td>\n",
              "      <td>7</td>\n",
              "      <td>11</td>\n",
              "      <td>14</td>\n",
              "      <td>4</td>\n",
              "      <td>16</td>\n",
              "      <td>10</td>\n",
              "      <td>9</td>\n",
              "      <td>17</td>\n",
              "      <td>24</td>\n",
              "      <td>2</td>\n",
              "    </tr>\n",
              "    <tr>\n",
              "      <th>8</th>\n",
              "      <td>16</td>\n",
              "      <td>5</td>\n",
              "      <td>25</td>\n",
              "      <td>24</td>\n",
              "      <td>23</td>\n",
              "      <td>8</td>\n",
              "      <td>12</td>\n",
              "      <td>2</td>\n",
              "      <td>17</td>\n",
              "      <td>18</td>\n",
              "      <td>1</td>\n",
              "      <td>10</td>\n",
              "      <td>4</td>\n",
              "      <td>19</td>\n",
              "      <td>13</td>\n",
              "      <td>1</td>\n",
              "    </tr>\n",
              "    <tr>\n",
              "      <th>9</th>\n",
              "      <td>15</td>\n",
              "      <td>13</td>\n",
              "      <td>20</td>\n",
              "      <td>2</td>\n",
              "      <td>11</td>\n",
              "      <td>24</td>\n",
              "      <td>9</td>\n",
              "      <td>16</td>\n",
              "      <td>4</td>\n",
              "      <td>23</td>\n",
              "      <td>25</td>\n",
              "      <td>12</td>\n",
              "      <td>8</td>\n",
              "      <td>19</td>\n",
              "      <td>1</td>\n",
              "      <td>2</td>\n",
              "    </tr>\n",
              "    <tr>\n",
              "      <th>11</th>\n",
              "      <td>23</td>\n",
              "      <td>19</td>\n",
              "      <td>1</td>\n",
              "      <td>5</td>\n",
              "      <td>7</td>\n",
              "      <td>21</td>\n",
              "      <td>16</td>\n",
              "      <td>10</td>\n",
              "      <td>15</td>\n",
              "      <td>25</td>\n",
              "      <td>6</td>\n",
              "      <td>2</td>\n",
              "      <td>12</td>\n",
              "      <td>4</td>\n",
              "      <td>17</td>\n",
              "      <td>2</td>\n",
              "    </tr>\n",
              "    <tr>\n",
              "      <th>13</th>\n",
              "      <td>22</td>\n",
              "      <td>4</td>\n",
              "      <td>15</td>\n",
              "      <td>8</td>\n",
              "      <td>16</td>\n",
              "      <td>14</td>\n",
              "      <td>21</td>\n",
              "      <td>23</td>\n",
              "      <td>12</td>\n",
              "      <td>1</td>\n",
              "      <td>25</td>\n",
              "      <td>19</td>\n",
              "      <td>7</td>\n",
              "      <td>10</td>\n",
              "      <td>18</td>\n",
              "      <td>9</td>\n",
              "    </tr>\n",
              "    <tr>\n",
              "      <th>22</th>\n",
              "      <td>19</td>\n",
              "      <td>16</td>\n",
              "      <td>18</td>\n",
              "      <td>9</td>\n",
              "      <td>13</td>\n",
              "      <td>8</td>\n",
              "      <td>5</td>\n",
              "      <td>25</td>\n",
              "      <td>17</td>\n",
              "      <td>10</td>\n",
              "      <td>6</td>\n",
              "      <td>15</td>\n",
              "      <td>1</td>\n",
              "      <td>22</td>\n",
              "      <td>20</td>\n",
              "      <td>1</td>\n",
              "    </tr>\n",
              "    <tr>\n",
              "      <th>23</th>\n",
              "      <td>21</td>\n",
              "      <td>4</td>\n",
              "      <td>17</td>\n",
              "      <td>5</td>\n",
              "      <td>3</td>\n",
              "      <td>13</td>\n",
              "      <td>16</td>\n",
              "      <td>9</td>\n",
              "      <td>20</td>\n",
              "      <td>24</td>\n",
              "      <td>25</td>\n",
              "      <td>19</td>\n",
              "      <td>11</td>\n",
              "      <td>15</td>\n",
              "      <td>10</td>\n",
              "      <td>3</td>\n",
              "    </tr>\n",
              "    <tr>\n",
              "      <th>26</th>\n",
              "      <td>24</td>\n",
              "      <td>19</td>\n",
              "      <td>8</td>\n",
              "      <td>23</td>\n",
              "      <td>6</td>\n",
              "      <td>2</td>\n",
              "      <td>20</td>\n",
              "      <td>11</td>\n",
              "      <td>9</td>\n",
              "      <td>3</td>\n",
              "      <td>4</td>\n",
              "      <td>10</td>\n",
              "      <td>5</td>\n",
              "      <td>12</td>\n",
              "      <td>14</td>\n",
              "      <td>0</td>\n",
              "    </tr>\n",
              "    <tr>\n",
              "      <th>27</th>\n",
              "      <td>24</td>\n",
              "      <td>9</td>\n",
              "      <td>8</td>\n",
              "      <td>19</td>\n",
              "      <td>20</td>\n",
              "      <td>22</td>\n",
              "      <td>6</td>\n",
              "      <td>10</td>\n",
              "      <td>11</td>\n",
              "      <td>16</td>\n",
              "      <td>7</td>\n",
              "      <td>25</td>\n",
              "      <td>23</td>\n",
              "      <td>2</td>\n",
              "      <td>12</td>\n",
              "      <td>0</td>\n",
              "    </tr>\n",
              "    <tr>\n",
              "      <th>28</th>\n",
              "      <td>11</td>\n",
              "      <td>5</td>\n",
              "      <td>25</td>\n",
              "      <td>1</td>\n",
              "      <td>9</td>\n",
              "      <td>8</td>\n",
              "      <td>16</td>\n",
              "      <td>4</td>\n",
              "      <td>7</td>\n",
              "      <td>24</td>\n",
              "      <td>17</td>\n",
              "      <td>2</td>\n",
              "      <td>12</td>\n",
              "      <td>14</td>\n",
              "      <td>10</td>\n",
              "      <td>1</td>\n",
              "    </tr>\n",
              "    <tr>\n",
              "      <th>29</th>\n",
              "      <td>13</td>\n",
              "      <td>6</td>\n",
              "      <td>10</td>\n",
              "      <td>5</td>\n",
              "      <td>8</td>\n",
              "      <td>14</td>\n",
              "      <td>3</td>\n",
              "      <td>11</td>\n",
              "      <td>16</td>\n",
              "      <td>15</td>\n",
              "      <td>9</td>\n",
              "      <td>17</td>\n",
              "      <td>19</td>\n",
              "      <td>7</td>\n",
              "      <td>23</td>\n",
              "      <td>3</td>\n",
              "    </tr>\n",
              "    <tr>\n",
              "      <th>32</th>\n",
              "      <td>14</td>\n",
              "      <td>21</td>\n",
              "      <td>13</td>\n",
              "      <td>19</td>\n",
              "      <td>20</td>\n",
              "      <td>6</td>\n",
              "      <td>9</td>\n",
              "      <td>5</td>\n",
              "      <td>7</td>\n",
              "      <td>23</td>\n",
              "      <td>18</td>\n",
              "      <td>1</td>\n",
              "      <td>15</td>\n",
              "      <td>2</td>\n",
              "      <td>25</td>\n",
              "      <td>3</td>\n",
              "    </tr>\n",
              "    <tr>\n",
              "      <th>35</th>\n",
              "      <td>23</td>\n",
              "      <td>6</td>\n",
              "      <td>21</td>\n",
              "      <td>4</td>\n",
              "      <td>10</td>\n",
              "      <td>24</td>\n",
              "      <td>16</td>\n",
              "      <td>1</td>\n",
              "      <td>15</td>\n",
              "      <td>2</td>\n",
              "      <td>8</td>\n",
              "      <td>19</td>\n",
              "      <td>12</td>\n",
              "      <td>18</td>\n",
              "      <td>25</td>\n",
              "      <td>22</td>\n",
              "    </tr>\n",
              "  </tbody>\n",
              "</table>\n",
              "</div>"
            ],
            "text/plain": [
              "    bola1  bola2  bola3  bola4  bola5  bola6  bola7  bola8  bola9  bola10  \\\n",
              "0      18     20     25     23     10     11     24     14      6       2   \n",
              "5      23     15      5      4     12     16     20      6     11      19   \n",
              "6      20     23     12      8      6      1      7     11     14       4   \n",
              "8      16      5     25     24     23      8     12      2     17      18   \n",
              "9      15     13     20      2     11     24      9     16      4      23   \n",
              "11     23     19      1      5      7     21     16     10     15      25   \n",
              "13     22      4     15      8     16     14     21     23     12       1   \n",
              "22     19     16     18      9     13      8      5     25     17      10   \n",
              "23     21      4     17      5      3     13     16      9     20      24   \n",
              "26     24     19      8     23      6      2     20     11      9       3   \n",
              "27     24      9      8     19     20     22      6     10     11      16   \n",
              "28     11      5     25      1      9      8     16      4      7      24   \n",
              "29     13      6     10      5      8     14      3     11     16      15   \n",
              "32     14     21     13     19     20      6      9      5      7      23   \n",
              "35     23      6     21      4     10     24     16      1     15       2   \n",
              "\n",
              "    bola11  bola12  bola13  bola14  bola15  ganhadores_15_números  \n",
              "0       13       9       5      16       3                      5  \n",
              "5       24       1       9      13       7                      1  \n",
              "6       16      10       9      17      24                      2  \n",
              "8        1      10       4      19      13                      1  \n",
              "9       25      12       8      19       1                      2  \n",
              "11       6       2      12       4      17                      2  \n",
              "13      25      19       7      10      18                      9  \n",
              "22       6      15       1      22      20                      1  \n",
              "23      25      19      11      15      10                      3  \n",
              "26       4      10       5      12      14                      0  \n",
              "27       7      25      23       2      12                      0  \n",
              "28      17       2      12      14      10                      1  \n",
              "29       9      17      19       7      23                      3  \n",
              "32      18       1      15       2      25                      3  \n",
              "35       8      19      12      18      25                     22  "
            ]
          },
          "metadata": {
            "tags": []
          },
          "execution_count": 33
        }
      ]
    },
    {
      "cell_type": "code",
      "metadata": {
        "colab": {
          "base_uri": "https://localhost:8080/",
          "height": 365
        },
        "id": "AyFIXFPtfGZ6",
        "outputId": "d6e44920-2fc0-4de1-a5f1-937dd498acbf"
      },
      "source": [
        "# Pode existir mais de um ganhador por jogo\n",
        "df_nn[df_nn['ganhadores_15_números'] > 1].groupby('ganhadores_15_números')['ganhadores_15_números'].agg('count').plot(kind='bar',figsize=(10,5), color='gray', fontsize=12)"
      ],
      "execution_count": 34,
      "outputs": [
        {
          "output_type": "execute_result",
          "data": {
            "text/plain": [
              "<matplotlib.axes._subplots.AxesSubplot at 0x7fac8db205f8>"
            ]
          },
          "metadata": {
            "tags": []
          },
          "execution_count": 34
        },
        {
          "output_type": "display_data",
          "data": {
            "image/png": "[encoded data removed]",
            "text/plain": [
              "<Figure size 720x360 with 1 Axes>"
            ]
          },
          "metadata": {
            "tags": [],
            "needs_background": "light"
          }
        }
      ]
    },
    {
      "cell_type": "code",
      "metadata": {
        "colab": {
          "base_uri": "https://localhost:8080/",
          "height": 538
        },
        "id": "lsVY4HQSfGZ6",
        "outputId": "1e345450-eb45-4eac-ba1b-434e8127dcd1"
      },
      "source": [
        "# Então tudo jogo que tiver um ou mais ganhadores deixamos como o numeoro 1\n",
        "df_nn.loc[df_nn['ganhadores_15_números'] > 0, 'ganhadores_15_números'] = 1\n",
        "\n",
        "df_nn['ganhadores_15_números'].value_counts().plot(kind='bar', figsize=(10,5), color='gray', fontsize=12)\n",
        "\n",
        "print(df_nn['ganhadores_15_números'].value_counts())"
      ],
      "execution_count": 35,
      "outputs": [
        {
          "output_type": "stream",
          "text": [
            "1    1940\n",
            "0     172\n",
            "Name: ganhadores_15_números, dtype: int64\n"
          ],
          "name": "stdout"
        },
        {
          "output_type": "stream",
          "text": [
            "/usr/local/lib/python3.6/dist-packages/pandas/core/indexing.py:670: SettingWithCopyWarning: \n",
            "A value is trying to be set on a copy of a slice from a DataFrame\n",
            "\n",
            "See the caveats in the documentation: https://pandas.pydata.org/pandas-docs/stable/user_guide/indexing.html#returning-a-view-versus-a-copy\n",
            "  iloc._setitem_with_indexer(indexer, value)\n",
            "/usr/local/lib/python3.6/dist-packages/ipykernel_launcher.py:2: SettingWithCopyWarning: \n",
            "A value is trying to be set on a copy of a slice from a DataFrame\n",
            "\n",
            "See the caveats in the documentation: https://pandas.pydata.org/pandas-docs/stable/user_guide/indexing.html#returning-a-view-versus-a-copy\n",
            "  \n"
          ],
          "name": "stderr"
        },
        {
          "output_type": "display_data",
          "data": {
            "image/png": "[encoded data removed]",
            "text/plain": [
              "<Figure size 720x360 with 1 Axes>"
            ]
          },
          "metadata": {
            "tags": [],
            "needs_background": "light"
          }
        }
      ]
    },
    {
      "cell_type": "markdown",
      "metadata": {
        "id": "4aGPUvEyfGZ7"
      },
      "source": [
        "# Rede neural"
      ]
    },
    {
      "cell_type": "code",
      "metadata": {
        "id": "nmGZaUYofGZ7"
      },
      "source": [
        "from keras.models  import Sequential\n",
        "from keras.layers  import Dense\n",
        "from sklearn.model_selection import train_test_split"
      ],
      "execution_count": 36,
      "outputs": []
    },
    {
      "cell_type": "code",
      "metadata": {
        "id": "ajS_PEXPfGZ7"
      },
      "source": [
        "# Definição do seed para a reproducidade do modelo\n",
        "np.random.seed(8)"
      ],
      "execution_count": 37,
      "outputs": []
    },
    {
      "cell_type": "code",
      "metadata": {
        "id": "aBoMhPbGfGZ7"
      },
      "source": [
        "# Separando target e classes\n",
        "features = df_nn.iloc[:,0:15]\n",
        "target   = df_nn.iloc[:,15]"
      ],
      "execution_count": 38,
      "outputs": []
    },
    {
      "cell_type": "code",
      "metadata": {
        "id": "l4sqxU0efGZ7"
      },
      "source": [
        "# Dividindo dataset entre treino e teste\n",
        "X_train, X_test, y_train, y_test = train_test_split(target, features, test_size=0.33, random_state=8)"
      ],
      "execution_count": 39,
      "outputs": []
    },
    {
      "cell_type": "code",
      "metadata": {
        "id": "jqfe2SOsfGZ7"
      },
      "source": [
        "# Criando modelo\n",
        "modelo = Sequential()\n",
        "modelo.add(Dense(10, input_dim=15, activation='relu'))\n",
        "modelo.add(Dense(12, activation='relu'))\n",
        "modelo.add(Dense(1, activation='sigmoid'))"
      ],
      "execution_count": 40,
      "outputs": []
    },
    {
      "cell_type": "code",
      "metadata": {
        "id": "9JyyhN9efGZ7"
      },
      "source": [
        "# Compilando o modelo\n",
        "modelo.compile(loss='binary_crossentropy', optimizer='adam', metrics=['accuracy'])"
      ],
      "execution_count": 41,
      "outputs": []
    },
    {
      "cell_type": "code",
      "metadata": {
        "colab": {
          "base_uri": "https://localhost:8080/"
        },
        "id": "J6wIE-UwfGZ8",
        "outputId": "0d292c98-27cd-45ff-9c0a-702ddd76d678"
      },
      "source": [
        "# Treinando modelo\n",
        "modelo.fit(y_train, X_train, epochs=30, batch_size=10)"
      ],
      "execution_count": 42,
      "outputs": [
        {
          "output_type": "stream",
          "text": [
            "Epoch 1/30\n",
            "142/142 [==============================] - 1s 1ms/step - loss: 0.4893 - accuracy: 0.8834\n",
            "Epoch 2/30\n",
            "142/142 [==============================] - 0s 1ms/step - loss: 0.3540 - accuracy: 0.9154\n",
            "Epoch 3/30\n",
            "142/142 [==============================] - 0s 1ms/step - loss: 0.3230 - accuracy: 0.9178\n",
            "Epoch 4/30\n",
            "142/142 [==============================] - 0s 1ms/step - loss: 0.3175 - accuracy: 0.9148\n",
            "Epoch 5/30\n",
            "142/142 [==============================] - 0s 1ms/step - loss: 0.3399 - accuracy: 0.9042\n",
            "Epoch 6/30\n",
            "142/142 [==============================] - 0s 1ms/step - loss: 0.2904 - accuracy: 0.9149\n",
            "Epoch 7/30\n",
            "142/142 [==============================] - 0s 1ms/step - loss: 0.2927 - accuracy: 0.9094\n",
            "Epoch 8/30\n",
            "142/142 [==============================] - 0s 1ms/step - loss: 0.2830 - accuracy: 0.9163\n",
            "Epoch 9/30\n",
            "142/142 [==============================] - 0s 1ms/step - loss: 0.2900 - accuracy: 0.9131\n",
            "Epoch 10/30\n",
            "142/142 [==============================] - 0s 1ms/step - loss: 0.2888 - accuracy: 0.9105\n",
            "Epoch 11/30\n",
            "142/142 [==============================] - 0s 1ms/step - loss: 0.2915 - accuracy: 0.9141\n",
            "Epoch 12/30\n",
            "142/142 [==============================] - 0s 1ms/step - loss: 0.2536 - accuracy: 0.9265\n",
            "Epoch 13/30\n",
            "142/142 [==============================] - 0s 1ms/step - loss: 0.2844 - accuracy: 0.9125\n",
            "Epoch 14/30\n",
            "142/142 [==============================] - 0s 1ms/step - loss: 0.2964 - accuracy: 0.9056\n",
            "Epoch 15/30\n",
            "142/142 [==============================] - 0s 1ms/step - loss: 0.2759 - accuracy: 0.9130\n",
            "Epoch 16/30\n",
            "142/142 [==============================] - 0s 1ms/step - loss: 0.2878 - accuracy: 0.9098\n",
            "Epoch 17/30\n",
            "142/142 [==============================] - 0s 1ms/step - loss: 0.2717 - accuracy: 0.9129\n",
            "Epoch 18/30\n",
            "142/142 [==============================] - 0s 1ms/step - loss: 0.2872 - accuracy: 0.9059\n",
            "Epoch 19/30\n",
            "142/142 [==============================] - 0s 1ms/step - loss: 0.2631 - accuracy: 0.9198\n",
            "Epoch 20/30\n",
            "142/142 [==============================] - 0s 1ms/step - loss: 0.2629 - accuracy: 0.9188\n",
            "Epoch 21/30\n",
            "142/142 [==============================] - 0s 1ms/step - loss: 0.2687 - accuracy: 0.9142\n",
            "Epoch 22/30\n",
            "142/142 [==============================] - 0s 1ms/step - loss: 0.2765 - accuracy: 0.9088\n",
            "Epoch 23/30\n",
            "142/142 [==============================] - 0s 1ms/step - loss: 0.2714 - accuracy: 0.9072\n",
            "Epoch 24/30\n",
            "142/142 [==============================] - 0s 1ms/step - loss: 0.2826 - accuracy: 0.9053\n",
            "Epoch 25/30\n",
            "142/142 [==============================] - 0s 1ms/step - loss: 0.2801 - accuracy: 0.9098\n",
            "Epoch 26/30\n",
            "142/142 [==============================] - 0s 1ms/step - loss: 0.2483 - accuracy: 0.9181\n",
            "Epoch 27/30\n",
            "142/142 [==============================] - 0s 1ms/step - loss: 0.2472 - accuracy: 0.9201\n",
            "Epoch 28/30\n",
            "142/142 [==============================] - 0s 1ms/step - loss: 0.2581 - accuracy: 0.9133\n",
            "Epoch 29/30\n",
            "142/142 [==============================] - 0s 1ms/step - loss: 0.2667 - accuracy: 0.9103\n",
            "Epoch 30/30\n",
            "142/142 [==============================] - 0s 1ms/step - loss: 0.2496 - accuracy: 0.9170\n"
          ],
          "name": "stdout"
        },
        {
          "output_type": "execute_result",
          "data": {
            "text/plain": [
              "<tensorflow.python.keras.callbacks.History at 0x7fac8d9bf198>"
            ]
          },
          "metadata": {
            "tags": []
          },
          "execution_count": 42
        }
      ]
    },
    {
      "cell_type": "markdown",
      "metadata": {
        "id": "Ncm0fETdfGZ8"
      },
      "source": [
        "# Validando Modelo"
      ]
    },
    {
      "cell_type": "code",
      "metadata": {
        "colab": {
          "base_uri": "https://localhost:8080/"
        },
        "id": "POC1CPgJfGZ8",
        "outputId": "bd7a4b8d-4b74-4247-bb7f-564aa787f284"
      },
      "source": [
        "# Avaliando modelo\n",
        "scores = modelo.evaluate(y_test, X_test)\n",
        "print(\"\\n\")\n",
        "print(\"Acuracia do modelo\")\n",
        "print(\"\\n%s: %2f%%\" % (modelo.metrics_names[1], scores[1]*100))"
      ],
      "execution_count": 43,
      "outputs": [
        {
          "output_type": "stream",
          "text": [
            "22/22 [==============================] - 0s 1ms/step - loss: 0.3117 - accuracy: 0.9268\n",
            "\n",
            "\n",
            "Acuracia do modelo\n",
            "\n",
            "accuracy: 92.682928%\n"
          ],
          "name": "stdout"
        }
      ]
    },
    {
      "cell_type": "markdown",
      "metadata": {
        "id": "1qDC5f2_fGZ8"
      },
      "source": [
        "# Predict "
      ]
    },
    {
      "cell_type": "markdown",
      "metadata": {
        "id": "WRbts3PefGZ8"
      },
      "source": [
        "### Teste de probabilidade de um jogo"
      ]
    },
    {
      "cell_type": "code",
      "metadata": {
        "colab": {
          "base_uri": "https://localhost:8080/"
        },
        "id": "JorgLJS6fGZ8",
        "outputId": "68bc22a1-6ef6-4504-e1c3-5d99b59b8514"
      },
      "source": [
        "numero_sorteio = [[1, 2, 3, 5, 7, 8, 10, 11, 12, 14, 15, 17, 21, 22, 24]]\n",
        "\n",
        "y_predict = pd.DataFrame(numero_sorteio)\n",
        "y_predict\n",
        "\n",
        "predict_class = modelo.predict_classes(y_predict)\n",
        "print(\"1 = Tem chance de ganhar / 0 = Não tem chance de ganhar\")\n",
        "print(\"\\n\")\n",
        "print(\"Previsão Modelo: \",predict_class[0][0])"
      ],
      "execution_count": 44,
      "outputs": [
        {
          "output_type": "stream",
          "text": [
            "1 = Tem chance de ganhar / 0 = Não tem chance de ganhar\n",
            "\n",
            "\n",
            "Previsão Modelo:  1\n"
          ],
          "name": "stdout"
        },
        {
          "output_type": "stream",
          "text": [
            "/usr/local/lib/python3.6/dist-packages/tensorflow/python/keras/engine/sequential.py:450: UserWarning: `model.predict_classes()` is deprecated and will be removed after 2021-01-01. Please use instead:* `np.argmax(model.predict(x), axis=-1)`,   if your model does multi-class classification   (e.g. if it uses a `softmax` last-layer activation).* `(model.predict(x) > 0.5).astype(\"int32\")`,   if your model does binary classification   (e.g. if it uses a `sigmoid` last-layer activation).\n",
            "  warnings.warn('`model.predict_classes()` is deprecated and '\n"
          ],
          "name": "stderr"
        }
      ]
    },
    {
      "cell_type": "code",
      "metadata": {
        "colab": {
          "base_uri": "https://localhost:8080/"
        },
        "id": "hdYmBrSQfGZ9",
        "outputId": "a695cb26-cf1f-4b32-a136-47fba146df8a"
      },
      "source": [
        "# Achando a probabilidade\n",
        "predict_proba = modelo.predict_proba(y_predict)\n",
        "print(\"Probabilidade: \", round((predict_proba[0][0]*100),2), \"%\")"
      ],
      "execution_count": 45,
      "outputs": [
        {
          "output_type": "stream",
          "text": [
            "Probabilidade:  98.4 %\n"
          ],
          "name": "stdout"
        },
        {
          "output_type": "stream",
          "text": [
            "/usr/local/lib/python3.6/dist-packages/tensorflow/python/keras/engine/sequential.py:425: UserWarning: `model.predict_proba()` is deprecated and will be removed after 2021-01-01. Please use `model.predict()` instead.\n",
            "  warnings.warn('`model.predict_proba()` is deprecated and '\n"
          ],
          "name": "stderr"
        }
      ]
    },
    {
      "cell_type": "markdown",
      "metadata": {
        "id": "_b7ba2J8fGZ9"
      },
      "source": [
        "# Gerando numero"
      ]
    },
    {
      "cell_type": "code",
      "metadata": {
        "colab": {
          "base_uri": "https://localhost:8080/"
        },
        "id": "oQwL_zuNfGZ9",
        "outputId": "fd20af87-78c2-4320-d6bb-e514bbe98b4b"
      },
      "source": [
        "import random\n",
        "\n",
        "random.seed(25)\n",
        "\n",
        "probabilidade_boa = 99\n",
        "probabilidade_atual = 0\n",
        "\n",
        "# Gerando list com as dezenas sorteadas\n",
        "dezenas_sorteadas = df_nn[['bola1','bola2','bola3','bola4','bola5','bola6','bola7','bola8','bola9','bola10','bola11','bola12','bola13','bola14','bola15']].values.tolist()\n",
        "\n",
        "# Gera sequencia de numeros até que a probabilidade seja maior ou igual que 99%\n",
        "while(probabilidade_atual < probabilidade_boa):\n",
        "    \n",
        "    # Gera sequencia de número \n",
        "    dezenas = random.sample(range(1, 25), 15)\n",
        "    \n",
        "    # Numero gerado já foi sorteado?\n",
        "    if not dezenas in dezenas_sorteadas:\n",
        "\n",
        "        # Valida qual a probabilidade da seguência ser sorteada\n",
        "        probabilidade_atual = int(modelo.predict(pd.DataFrame([dezenas]))[0][0]*100)\n",
        "    \n",
        "\n",
        "print(\"Probabilidade de {0} % -> Dezenas: {1}\".format(probabilidade_atual, sorted(dezenas)))   "
      ],
      "execution_count": 53,
      "outputs": [
        {
          "output_type": "stream",
          "text": [
            "Probabilidade de 99 % -> Dezenas: [1, 2, 4, 6, 7, 8, 10, 11, 13, 14, 15, 16, 21, 23, 24]\n"
          ],
          "name": "stdout"
        }
      ]
    },
    {
      "cell_type": "code",
      "metadata": {
        "colab": {
          "base_uri": "https://localhost:8080/"
        },
        "id": "VPP_Ub8LfGZ9",
        "outputId": "9b26f214-cf0d-4033-f409-d3487fdc0105"
      },
      "source": [
        "\n",
        "# Gera sequencia de número \n",
        "dezenas_random = random.sample(range(1, 25), 15)\n",
        "\n",
        "# Numero gerado já foi sorteado?\n",
        "if not dezenas_random in dezenas_sorteadas:\n",
        "\n",
        "    # Valida qual a probabilidade da seguência ser sorteada\n",
        "    probabilidade_atual = int(modelo.predict(pd.DataFrame([dezenas_random]))[0][0]*100)\n",
        "\n",
        "print(\"Probabilidade de {0} % -> Dezenas: {1}\".format(probabilidade_atual, sorted(dezenas_random)))   "
      ],
      "execution_count": 54,
      "outputs": [
        {
          "output_type": "stream",
          "text": [
            "Probabilidade de 96 % -> Dezenas: [3, 4, 5, 6, 8, 12, 13, 14, 15, 18, 19, 20, 21, 22, 23]\n"
          ],
          "name": "stdout"
        }
      ]
    },
    {
      "cell_type": "markdown",
      "metadata": {
        "id": "her41wOvfGZ-"
      },
      "source": [
        "### Gerando jogos baseando na tendência de que n bolas do jogo anterior se repetem no próximo"
      ]
    },
    {
      "cell_type": "code",
      "metadata": {
        "colab": {
          "base_uri": "https://localhost:8080/"
        },
        "id": "ehF0QaNUfGZ-",
        "outputId": "2a76066f-8fd6-4351-aa46-f92f1d81da84"
      },
      "source": [
        "valConcurso = []\n",
        "valConcurso.append(0)\n",
        "probabildade_n_bolas_repetidas = []\n",
        "probabildade_n_bolas_repetidas.append(0)\n",
        "for n in range(15):\n",
        "  n = n + 1\n",
        "  concurso = []\n",
        "  counts = []\n",
        "  anterior = [0,0,0,0,0,0,0,0,0,0,0,0,0,0,0]\n",
        "  arr = []\n",
        "  nConcurso = 0\n",
        "  for index, row in df_nn.iterrows():\n",
        "    nConcurso += 1\n",
        "    concurso = []\n",
        "    concurso.append(row['bola1'])\n",
        "    concurso.append(row['bola2'])\n",
        "    concurso.append(row['bola3'])\n",
        "    concurso.append(row['bola4'])\n",
        "    concurso.append(row['bola5'])\n",
        "    concurso.append(row['bola6'])\n",
        "    concurso.append(row['bola7'])\n",
        "    concurso.append(row['bola8'])\n",
        "    concurso.append(row['bola9'])\n",
        "    concurso.append(row['bola10'])\n",
        "    concurso.append(row['bola11'])\n",
        "    concurso.append(row['bola12'])\n",
        "    concurso.append(row['bola13'])\n",
        "    concurso.append(row['bola14'])\n",
        "    concurso.append(row['bola15'])\n",
        "    count = 0\n",
        "    for x in range(15):\n",
        "      if(np.count_nonzero(concurso==anterior[x]) > 0):\n",
        "        count += 1\n",
        "      if(count == n):\n",
        "        arr.append(nConcurso)\n",
        "        counts.append(count)\n",
        "        break\n",
        "    anterior = concurso\n",
        "  valConcurso.append(arr)\n",
        "  print('Probabilidade de repetir {0:d} números do jogo anterior: {1:.2f}%'.format(n,(len(counts)/df_nn.shape[0])*100))\n",
        "  print('{} vezes que {} números se repetiram no próximo jogo, em um total de {} jogos'.format(len(counts), n, df_nn.shape[0]))\n",
        "  probabildade_n_bolas_repetidas.append(len(counts))"
      ],
      "execution_count": 237,
      "outputs": [
        {
          "output_type": "stream",
          "text": [
            "Probabilidade de repetir 1 números do jogo anterior: 99.95%\n",
            "2111 vezes que 1 números se repetiram no próximo jogo, em um total de 2112 jogos\n",
            "Probabilidade de repetir 2 números do jogo anterior: 99.95%\n",
            "2111 vezes que 2 números se repetiram no próximo jogo, em um total de 2112 jogos\n",
            "Probabilidade de repetir 3 números do jogo anterior: 99.95%\n",
            "2111 vezes que 3 números se repetiram no próximo jogo, em um total de 2112 jogos\n",
            "Probabilidade de repetir 4 números do jogo anterior: 99.95%\n",
            "2111 vezes que 4 números se repetiram no próximo jogo, em um total de 2112 jogos\n",
            "Probabilidade de repetir 5 números do jogo anterior: 99.95%\n",
            "2111 vezes que 5 números se repetiram no próximo jogo, em um total de 2112 jogos\n",
            "Probabilidade de repetir 6 números do jogo anterior: 99.91%\n",
            "2110 vezes que 6 números se repetiram no próximo jogo, em um total de 2112 jogos\n",
            "Probabilidade de repetir 7 números do jogo anterior: 98.67%\n",
            "2084 vezes que 7 números se repetiram no próximo jogo, em um total de 2112 jogos\n",
            "Probabilidade de repetir 8 números do jogo anterior: 89.20%\n",
            "1884 vezes que 8 números se repetiram no próximo jogo, em um total de 2112 jogos\n",
            "Probabilidade de repetir 9 números do jogo anterior: 63.87%\n",
            "1349 vezes que 9 números se repetiram no próximo jogo, em um total de 2112 jogos\n",
            "Probabilidade de repetir 10 números do jogo anterior: 31.25%\n",
            "660 vezes que 10 números se repetiram no próximo jogo, em um total de 2112 jogos\n",
            "Probabilidade de repetir 11 números do jogo anterior: 9.80%\n",
            "207 vezes que 11 números se repetiram no próximo jogo, em um total de 2112 jogos\n",
            "Probabilidade de repetir 12 números do jogo anterior: 1.80%\n",
            "38 vezes que 12 números se repetiram no próximo jogo, em um total de 2112 jogos\n",
            "Probabilidade de repetir 13 números do jogo anterior: 0.24%\n",
            "5 vezes que 13 números se repetiram no próximo jogo, em um total de 2112 jogos\n",
            "Probabilidade de repetir 14 números do jogo anterior: 0.05%\n",
            "1 vezes que 14 números se repetiram no próximo jogo, em um total de 2112 jogos\n",
            "Probabilidade de repetir 15 números do jogo anterior: 0.00%\n",
            "0 vezes que 15 números se repetiram no próximo jogo, em um total de 2112 jogos\n"
          ],
          "name": "stdout"
        }
      ]
    },
    {
      "cell_type": "code",
      "metadata": {
        "id": "98XKcCYRtYUO",
        "outputId": "880ba112-a05c-46a8-8490-4cd86ddc3718",
        "colab": {
          "base_uri": "https://localhost:8080/",
          "height": 341
        }
      },
      "source": [
        "ax = pd.DataFrame(probabildade_n_bolas_repetidas, columns=['Valor']).plot(kind='bar', title='Quantidade de números repetidos do jogo anterior', figsize=(15,5), fontsize=12, legend=True, color='gray')\n",
        "for p in ax.patches:\n",
        "    ax.annotate(str(p.get_height()), (p.get_x() * 1.005, p.get_height() * 1.005))"
      ],
      "execution_count": 245,
      "outputs": [
        {
          "output_type": "display_data",
          "data": {
            "image/png": "[encoded data removed]",
            "text/plain": [
              "<Figure size 1080x360 with 1 Axes>"
            ]
          },
          "metadata": {
            "tags": [],
            "needs_background": "light"
          }
        }
      ]
    },
    {
      "cell_type": "markdown",
      "metadata": {
        "id": "eGCoUakzYb2a"
      },
      "source": [
        "Aqui podemos analisar quais concursos tiveram repetição de \"num_bolas\" do concurso anterior. Podemos inferir probabilidades disso ocorrer novamente no futuro."
      ]
    },
    {
      "cell_type": "code",
      "metadata": {
        "id": "v3RYpHm12uNh",
        "outputId": "30f7ccec-0e1d-4d7a-ae8c-58ef84c7a7ff",
        "colab": {
          "base_uri": "https://localhost:8080/"
        }
      },
      "source": [
        "num_bolas = 7\n",
        "print(valConcurso[num_bolas])"
      ],
      "execution_count": 266,
      "outputs": [
        {
          "output_type": "stream",
          "text": [
            "[2, 3, 4, 5, 6, 7, 8, 9, 10, 11, 12, 13, 14, 15, 16, 17, 18, 19, 20, 21, 22, 23, 24, 25, 26, 27, 28, 29, 30, 31, 32, 33, 34, 35, 36, 37, 38, 39, 40, 41, 42, 43, 44, 45, 46, 47, 48, 49, 50, 51, 52, 53, 54, 55, 56, 57, 58, 59, 60, 61, 62, 63, 64, 65, 66, 67, 68, 69, 70, 71, 72, 73, 74, 75, 76, 78, 79, 80, 81, 82, 83, 84, 85, 86, 87, 88, 89, 90, 91, 92, 93, 94, 95, 96, 97, 98, 99, 100, 101, 102, 103, 104, 105, 106, 107, 108, 109, 110, 111, 112, 113, 114, 115, 116, 117, 118, 119, 120, 121, 122, 123, 124, 125, 126, 127, 128, 129, 130, 131, 132, 133, 134, 135, 136, 137, 138, 139, 140, 141, 142, 143, 144, 145, 146, 147, 148, 149, 150, 151, 152, 153, 154, 155, 156, 157, 158, 159, 160, 161, 162, 163, 164, 165, 166, 167, 168, 169, 170, 171, 172, 173, 174, 175, 176, 177, 178, 179, 180, 181, 182, 183, 184, 185, 186, 187, 188, 189, 190, 191, 192, 193, 194, 195, 196, 197, 198, 199, 200, 201, 202, 203, 204, 205, 206, 207, 208, 209, 210, 211, 212, 213, 214, 215, 216, 217, 218, 219, 220, 221, 222, 223, 224, 225, 226, 227, 228, 229, 230, 231, 232, 233, 234, 235, 236, 237, 238, 239, 240, 241, 242, 243, 244, 245, 246, 247, 248, 249, 250, 251, 252, 253, 254, 255, 256, 257, 258, 259, 260, 261, 262, 263, 264, 265, 266, 267, 268, 269, 270, 271, 272, 273, 274, 275, 276, 277, 278, 279, 280, 281, 282, 283, 284, 285, 286, 287, 288, 289, 290, 291, 292, 293, 294, 295, 296, 297, 298, 299, 300, 301, 302, 303, 304, 305, 306, 307, 308, 309, 310, 311, 312, 313, 314, 315, 316, 317, 318, 319, 320, 321, 322, 323, 324, 325, 326, 327, 328, 329, 330, 331, 332, 333, 334, 335, 336, 337, 338, 340, 341, 342, 343, 344, 345, 346, 347, 348, 349, 350, 351, 352, 353, 354, 355, 356, 357, 358, 359, 360, 361, 362, 363, 364, 365, 366, 367, 368, 369, 370, 371, 372, 373, 374, 375, 376, 377, 378, 379, 380, 381, 382, 383, 384, 385, 386, 387, 388, 389, 390, 392, 393, 394, 395, 396, 397, 398, 399, 400, 401, 402, 403, 404, 405, 406, 407, 408, 409, 410, 411, 412, 413, 414, 415, 416, 417, 418, 419, 420, 421, 422, 423, 424, 425, 426, 427, 428, 429, 430, 431, 432, 433, 434, 435, 436, 437, 438, 439, 440, 441, 442, 443, 444, 445, 446, 447, 448, 449, 450, 451, 452, 453, 454, 455, 456, 457, 458, 459, 460, 461, 462, 463, 464, 465, 466, 467, 468, 469, 470, 471, 472, 473, 474, 475, 476, 477, 478, 479, 480, 481, 482, 483, 484, 485, 486, 487, 488, 489, 490, 491, 492, 493, 494, 495, 496, 497, 498, 499, 501, 502, 503, 504, 505, 506, 507, 508, 509, 510, 511, 512, 513, 514, 515, 516, 517, 518, 519, 520, 521, 522, 523, 524, 525, 526, 527, 528, 529, 530, 531, 532, 533, 534, 535, 536, 537, 538, 539, 540, 541, 542, 543, 544, 545, 546, 547, 548, 549, 550, 551, 552, 553, 554, 555, 556, 557, 558, 559, 560, 561, 562, 563, 564, 565, 566, 567, 568, 569, 570, 571, 572, 574, 575, 576, 577, 578, 579, 580, 581, 582, 583, 584, 585, 587, 588, 589, 590, 591, 592, 593, 594, 595, 596, 597, 598, 599, 600, 601, 602, 603, 604, 606, 607, 608, 609, 610, 611, 612, 613, 614, 615, 616, 617, 618, 619, 620, 621, 622, 623, 624, 625, 626, 627, 628, 629, 630, 631, 632, 633, 634, 635, 636, 637, 638, 639, 640, 641, 642, 643, 644, 645, 646, 647, 648, 649, 650, 651, 652, 653, 654, 655, 656, 657, 658, 659, 660, 661, 662, 663, 664, 665, 666, 667, 668, 669, 670, 671, 672, 673, 674, 675, 676, 677, 678, 679, 680, 681, 682, 683, 684, 685, 686, 687, 688, 689, 690, 691, 692, 693, 694, 695, 696, 697, 698, 699, 700, 701, 702, 703, 704, 705, 706, 707, 708, 709, 710, 711, 712, 713, 714, 715, 716, 717, 718, 719, 720, 721, 722, 723, 724, 725, 726, 727, 728, 729, 730, 731, 732, 733, 735, 736, 737, 738, 739, 740, 741, 742, 743, 744, 745, 746, 747, 748, 749, 750, 751, 752, 753, 754, 755, 756, 757, 758, 759, 760, 761, 762, 763, 764, 765, 766, 767, 768, 769, 770, 771, 772, 773, 774, 775, 776, 777, 778, 779, 780, 781, 782, 783, 784, 785, 786, 787, 788, 789, 790, 791, 792, 793, 794, 795, 796, 797, 798, 799, 800, 801, 802, 803, 804, 805, 806, 807, 808, 809, 810, 811, 812, 813, 814, 815, 816, 817, 818, 819, 820, 821, 822, 823, 824, 825, 826, 827, 828, 829, 830, 831, 832, 833, 834, 835, 836, 837, 838, 839, 840, 842, 843, 844, 845, 846, 847, 848, 849, 850, 851, 853, 854, 855, 856, 857, 858, 859, 860, 861, 862, 863, 864, 865, 866, 867, 868, 869, 870, 871, 872, 873, 875, 876, 877, 878, 879, 880, 881, 883, 884, 885, 886, 887, 888, 889, 890, 891, 892, 893, 894, 895, 896, 897, 898, 899, 900, 901, 902, 903, 904, 905, 906, 907, 908, 909, 910, 911, 912, 913, 914, 915, 916, 917, 918, 919, 920, 921, 922, 923, 924, 925, 926, 927, 928, 929, 930, 931, 932, 934, 935, 936, 937, 938, 939, 940, 941, 942, 943, 944, 945, 946, 947, 948, 949, 950, 951, 952, 954, 955, 956, 957, 958, 959, 960, 961, 962, 963, 964, 965, 966, 967, 968, 969, 970, 971, 972, 973, 974, 975, 976, 977, 978, 979, 980, 981, 982, 983, 984, 985, 986, 987, 988, 989, 990, 991, 992, 993, 994, 995, 996, 997, 998, 1000, 1001, 1002, 1003, 1004, 1005, 1006, 1007, 1008, 1009, 1010, 1011, 1012, 1013, 1014, 1015, 1016, 1017, 1018, 1019, 1020, 1021, 1022, 1023, 1024, 1025, 1026, 1027, 1028, 1029, 1030, 1031, 1032, 1033, 1034, 1035, 1036, 1037, 1038, 1039, 1040, 1041, 1042, 1043, 1044, 1045, 1046, 1047, 1048, 1049, 1050, 1051, 1052, 1053, 1054, 1055, 1056, 1057, 1058, 1059, 1060, 1061, 1062, 1063, 1064, 1065, 1066, 1067, 1068, 1069, 1070, 1071, 1072, 1073, 1074, 1075, 1076, 1077, 1078, 1079, 1080, 1081, 1082, 1083, 1084, 1085, 1086, 1087, 1088, 1089, 1090, 1091, 1092, 1093, 1094, 1095, 1096, 1097, 1098, 1099, 1100, 1101, 1102, 1103, 1104, 1105, 1106, 1107, 1108, 1109, 1110, 1111, 1112, 1113, 1114, 1115, 1116, 1117, 1118, 1119, 1120, 1121, 1123, 1124, 1125, 1126, 1127, 1128, 1129, 1130, 1131, 1132, 1133, 1134, 1135, 1136, 1137, 1138, 1139, 1140, 1141, 1142, 1143, 1144, 1145, 1146, 1147, 1148, 1149, 1150, 1151, 1152, 1153, 1154, 1155, 1156, 1157, 1158, 1159, 1160, 1161, 1162, 1163, 1164, 1165, 1166, 1167, 1168, 1169, 1170, 1171, 1172, 1173, 1174, 1175, 1176, 1177, 1178, 1179, 1180, 1181, 1182, 1183, 1184, 1185, 1186, 1187, 1188, 1189, 1190, 1191, 1192, 1193, 1194, 1195, 1196, 1197, 1198, 1199, 1200, 1201, 1202, 1203, 1204, 1205, 1206, 1207, 1208, 1209, 1210, 1211, 1212, 1213, 1214, 1215, 1216, 1217, 1218, 1219, 1220, 1221, 1222, 1223, 1224, 1225, 1226, 1227, 1228, 1229, 1230, 1231, 1232, 1233, 1234, 1235, 1236, 1237, 1238, 1239, 1240, 1241, 1242, 1243, 1244, 1245, 1246, 1247, 1248, 1249, 1250, 1251, 1252, 1253, 1254, 1255, 1256, 1257, 1258, 1259, 1260, 1261, 1262, 1263, 1264, 1265, 1266, 1267, 1268, 1269, 1270, 1271, 1272, 1273, 1274, 1275, 1276, 1277, 1278, 1279, 1280, 1281, 1282, 1283, 1284, 1285, 1286, 1287, 1288, 1289, 1290, 1291, 1292, 1293, 1294, 1295, 1296, 1297, 1298, 1299, 1300, 1301, 1302, 1303, 1304, 1305, 1306, 1307, 1308, 1309, 1310, 1311, 1312, 1313, 1314, 1315, 1316, 1317, 1318, 1319, 1320, 1321, 1322, 1323, 1324, 1325, 1326, 1327, 1328, 1329, 1330, 1331, 1332, 1333, 1334, 1335, 1336, 1337, 1338, 1339, 1340, 1341, 1342, 1343, 1344, 1345, 1346, 1347, 1348, 1349, 1350, 1351, 1352, 1353, 1354, 1355, 1356, 1357, 1358, 1359, 1360, 1361, 1362, 1363, 1364, 1365, 1366, 1367, 1368, 1369, 1370, 1371, 1372, 1373, 1374, 1375, 1376, 1377, 1378, 1379, 1380, 1381, 1382, 1383, 1384, 1385, 1387, 1388, 1389, 1390, 1391, 1392, 1393, 1394, 1395, 1396, 1397, 1398, 1399, 1400, 1401, 1402, 1403, 1404, 1405, 1406, 1407, 1408, 1409, 1410, 1411, 1412, 1413, 1414, 1415, 1416, 1417, 1418, 1419, 1420, 1421, 1422, 1423, 1424, 1425, 1426, 1427, 1428, 1429, 1430, 1431, 1432, 1433, 1434, 1435, 1436, 1437, 1438, 1439, 1440, 1442, 1443, 1444, 1445, 1446, 1447, 1448, 1449, 1450, 1451, 1452, 1453, 1454, 1455, 1456, 1457, 1458, 1459, 1460, 1461, 1462, 1463, 1464, 1465, 1466, 1467, 1468, 1469, 1470, 1471, 1472, 1473, 1474, 1475, 1476, 1477, 1478, 1479, 1480, 1481, 1482, 1483, 1484, 1485, 1486, 1487, 1488, 1489, 1490, 1491, 1492, 1493, 1494, 1495, 1496, 1497, 1498, 1499, 1500, 1501, 1502, 1503, 1504, 1505, 1506, 1507, 1508, 1509, 1510, 1511, 1512, 1513, 1514, 1515, 1516, 1517, 1518, 1519, 1520, 1521, 1522, 1523, 1524, 1525, 1526, 1527, 1528, 1529, 1530, 1531, 1532, 1533, 1534, 1535, 1536, 1538, 1539, 1540, 1541, 1542, 1543, 1544, 1545, 1546, 1547, 1548, 1549, 1550, 1551, 1552, 1553, 1554, 1555, 1556, 1557, 1558, 1559, 1560, 1561, 1562, 1563, 1564, 1565, 1566, 1567, 1568, 1569, 1570, 1571, 1572, 1573, 1574, 1575, 1576, 1577, 1578, 1579, 1580, 1581, 1582, 1583, 1584, 1585, 1586, 1587, 1588, 1589, 1590, 1591, 1592, 1593, 1594, 1595, 1596, 1597, 1598, 1600, 1601, 1602, 1603, 1604, 1605, 1606, 1607, 1608, 1609, 1610, 1611, 1612, 1614, 1615, 1616, 1617, 1618, 1619, 1620, 1621, 1622, 1623, 1624, 1625, 1626, 1627, 1628, 1629, 1630, 1631, 1632, 1634, 1635, 1636, 1637, 1638, 1639, 1640, 1641, 1642, 1643, 1644, 1645, 1646, 1647, 1648, 1649, 1650, 1651, 1652, 1653, 1654, 1655, 1656, 1657, 1658, 1659, 1660, 1661, 1662, 1663, 1664, 1665, 1666, 1667, 1668, 1669, 1670, 1671, 1672, 1673, 1674, 1675, 1676, 1677, 1678, 1679, 1680, 1681, 1682, 1683, 1684, 1685, 1686, 1687, 1688, 1689, 1690, 1691, 1692, 1693, 1694, 1695, 1696, 1697, 1698, 1699, 1700, 1701, 1702, 1703, 1704, 1705, 1706, 1707, 1708, 1709, 1710, 1711, 1712, 1713, 1714, 1715, 1716, 1717, 1718, 1719, 1720, 1721, 1722, 1723, 1724, 1725, 1726, 1727, 1728, 1729, 1730, 1731, 1732, 1733, 1734, 1735, 1736, 1737, 1738, 1739, 1740, 1741, 1742, 1743, 1744, 1745, 1746, 1747, 1748, 1749, 1750, 1751, 1752, 1753, 1754, 1755, 1756, 1757, 1758, 1759, 1760, 1761, 1762, 1763, 1764, 1766, 1767, 1768, 1769, 1770, 1771, 1772, 1773, 1774, 1775, 1776, 1777, 1778, 1779, 1780, 1781, 1782, 1783, 1784, 1785, 1786, 1787, 1788, 1789, 1790, 1791, 1792, 1793, 1794, 1795, 1796, 1797, 1798, 1799, 1800, 1801, 1802, 1803, 1804, 1805, 1806, 1807, 1808, 1809, 1810, 1811, 1812, 1813, 1814, 1815, 1816, 1817, 1818, 1819, 1820, 1821, 1822, 1823, 1824, 1825, 1826, 1827, 1828, 1829, 1830, 1831, 1832, 1833, 1834, 1835, 1836, 1837, 1838, 1839, 1840, 1841, 1842, 1843, 1844, 1845, 1846, 1847, 1848, 1849, 1850, 1851, 1852, 1853, 1854, 1855, 1856, 1857, 1858, 1859, 1861, 1862, 1863, 1864, 1865, 1866, 1867, 1868, 1869, 1870, 1871, 1872, 1873, 1874, 1875, 1876, 1877, 1878, 1879, 1880, 1881, 1882, 1883, 1884, 1885, 1886, 1887, 1888, 1889, 1890, 1891, 1892, 1893, 1894, 1895, 1896, 1897, 1898, 1899, 1900, 1901, 1902, 1903, 1904, 1905, 1906, 1907, 1908, 1909, 1910, 1911, 1912, 1913, 1914, 1915, 1916, 1917, 1918, 1919, 1920, 1921, 1922, 1923, 1924, 1925, 1926, 1927, 1928, 1929, 1930, 1931, 1932, 1933, 1934, 1935, 1937, 1938, 1939, 1940, 1941, 1942, 1943, 1944, 1945, 1946, 1947, 1948, 1949, 1950, 1951, 1952, 1953, 1954, 1955, 1956, 1957, 1958, 1959, 1960, 1961, 1962, 1963, 1964, 1965, 1966, 1967, 1968, 1969, 1970, 1971, 1972, 1973, 1974, 1975, 1976, 1977, 1978, 1979, 1980, 1981, 1982, 1983, 1984, 1985, 1986, 1987, 1988, 1989, 1990, 1991, 1992, 1993, 1994, 1995, 1996, 1997, 1998, 1999, 2000, 2001, 2002, 2003, 2004, 2005, 2006, 2007, 2008, 2009, 2010, 2011, 2012, 2013, 2014, 2015, 2016, 2017, 2018, 2019, 2020, 2021, 2022, 2023, 2024, 2025, 2026, 2027, 2028, 2029, 2030, 2031, 2032, 2033, 2034, 2035, 2036, 2037, 2038, 2039, 2040, 2041, 2042, 2043, 2044, 2045, 2046, 2047, 2048, 2049, 2050, 2051, 2052, 2053, 2054, 2055, 2056, 2057, 2058, 2059, 2060, 2061, 2062, 2063, 2064, 2065, 2066, 2067, 2068, 2069, 2070, 2071, 2072, 2073, 2074, 2075, 2076, 2077, 2078, 2079, 2080, 2081, 2082, 2083, 2084, 2085, 2086, 2087, 2089, 2090, 2091, 2092, 2093, 2094, 2095, 2096, 2097, 2098, 2099, 2100, 2101, 2102, 2103, 2104, 2105, 2106, 2107, 2108, 2109, 2110, 2112]\n"
          ],
          "name": "stdout"
        }
      ]
    },
    {
      "cell_type": "code",
      "metadata": {
        "colab": {
          "base_uri": "https://localhost:8080/"
        },
        "id": "PU-JRxghfGZ-",
        "outputId": "619e9978-f1fb-4790-bdd3-2feed1ef40ba"
      },
      "source": [
        "ultimo_sorteio = sorted(anterior)\n",
        "jogos = 20\n",
        "jogo_ok = False\n",
        "print(\"####################################################################\")\n",
        "print(\"################        Dicas para concurso nº      ################\")\n",
        "print(\"################               {0}                 ################\".format(df_nn.shape[0]+1))\n",
        "print(\"####################################################################\")\n",
        "print(\"\")\n",
        "print(\"Concurso anterior: \", ultimo_sorteio)\n",
        "print(\"\")\n",
        "for x in range(jogos):\n",
        "    indexes = random.sample(range(0, 15), num_bolas)\n",
        "    valores = [ ultimo_sorteio[i] for i in indexes ]\n",
        "    final = valores.copy()\n",
        "    indexes = random.sample(range(0, 15), 15)\n",
        "    for index in indexes:\n",
        "        if not dezenas[index] in valores and not dezenas[index] in ultimo_sorteio:\n",
        "            final.append(dezenas[index])\n",
        "        if(len(final) == 15):\n",
        "            break\n",
        "    if len(final) < 15:\n",
        "        valor_faltando = 15 - len(final)\n",
        "        while valor_faltando:\n",
        "            valor_aleatorio = random.sample(range(1, 25), 1)[0]\n",
        "            if not valor_aleatorio in valores and not valor_aleatorio in ultimo_sorteio and not valor_aleatorio in final:\n",
        "                final.append(valor_aleatorio)\n",
        "                valor_faltando -= 1\n",
        "    \n",
        "        jogo_ok = True\n",
        "    elif final in dezenas_sorteadas:\n",
        "        print('Já sorteado')\n",
        "    if jogo_ok:\n",
        "        probabilidade_atual = int(modelo.predict(pd.DataFrame([final]))[0][0]*100)\n",
        "        print(\"{0} % -> {1} || Números do concurso anterior: {2}\".format(probabilidade_atual, sorted(final), sorted(valores)))   "
      ],
      "execution_count": 268,
      "outputs": [
        {
          "output_type": "stream",
          "text": [
            "####################################################################\n",
            "################        Dicas para concurso nº      ################\n",
            "################               2113                 ################\n",
            "####################################################################\n",
            "\n",
            "Concurso anterior:  [2, 3, 4, 7, 8, 9, 10, 11, 12, 15, 16, 18, 22, 24, 25]\n",
            "\n",
            "96 % -> [1, 3, 6, 7, 10, 11, 13, 14, 16, 17, 20, 21, 22, 23, 25] || Números do concurso anterior: [3, 7, 10, 11, 16, 22, 25]\n",
            "83 % -> [1, 4, 6, 7, 10, 11, 13, 14, 16, 17, 18, 19, 21, 23, 24] || Números do concurso anterior: [4, 7, 10, 11, 16, 18, 24]\n",
            "91 % -> [1, 5, 6, 7, 9, 11, 12, 13, 14, 15, 17, 21, 22, 23, 24] || Números do concurso anterior: [7, 9, 11, 12, 15, 22, 24]\n",
            "91 % -> [1, 2, 3, 6, 8, 9, 13, 14, 15, 17, 18, 19, 21, 23, 25] || Números do concurso anterior: [2, 3, 8, 9, 15, 18, 25]\n",
            "85 % -> [1, 3, 5, 6, 7, 8, 11, 12, 13, 14, 15, 20, 21, 23, 24] || Números do concurso anterior: [3, 7, 8, 11, 12, 15, 24]\n",
            "92 % -> [1, 2, 5, 6, 7, 9, 11, 13, 14, 16, 18, 19, 21, 23, 24] || Números do concurso anterior: [2, 7, 9, 11, 16, 18, 24]\n",
            "95 % -> [1, 2, 3, 6, 7, 12, 13, 14, 19, 20, 21, 22, 23, 24, 25] || Números do concurso anterior: [2, 3, 7, 12, 22, 24, 25]\n",
            "88 % -> [1, 6, 7, 8, 11, 13, 14, 15, 17, 20, 21, 22, 23, 24, 25] || Números do concurso anterior: [7, 8, 11, 15, 22, 24, 25]\n",
            "91 % -> [1, 3, 4, 5, 6, 7, 11, 12, 13, 14, 16, 17, 21, 23, 25] || Números do concurso anterior: [3, 4, 7, 11, 12, 16, 25]\n",
            "89 % -> [1, 2, 3, 5, 6, 11, 12, 13, 14, 20, 21, 22, 23, 24, 25] || Números do concurso anterior: [2, 3, 11, 12, 22, 24, 25]\n",
            "91 % -> [1, 5, 6, 11, 12, 13, 14, 16, 18, 20, 21, 22, 23, 24, 25] || Números do concurso anterior: [11, 12, 16, 18, 22, 24, 25]\n",
            "85 % -> [1, 2, 3, 4, 5, 6, 12, 13, 14, 15, 16, 20, 21, 22, 23] || Números do concurso anterior: [2, 3, 4, 12, 15, 16, 22]\n",
            "98 % -> [1, 4, 5, 6, 7, 8, 10, 12, 13, 14, 15, 16, 17, 21, 23] || Números do concurso anterior: [4, 7, 8, 10, 12, 15, 16]\n",
            "65 % -> [1, 3, 5, 6, 7, 8, 9, 10, 12, 13, 14, 17, 21, 22, 23] || Números do concurso anterior: [3, 7, 8, 9, 10, 12, 22]\n",
            "89 % -> [1, 2, 6, 7, 8, 12, 13, 14, 15, 17, 18, 20, 21, 23, 25] || Números do concurso anterior: [2, 7, 8, 12, 15, 18, 25]\n",
            "77 % -> [1, 4, 5, 6, 9, 10, 11, 13, 14, 15, 16, 17, 21, 23, 25] || Números do concurso anterior: [4, 9, 10, 11, 15, 16, 25]\n",
            "93 % -> [1, 2, 4, 6, 11, 12, 13, 14, 16, 17, 19, 21, 22, 23, 24] || Números do concurso anterior: [2, 4, 11, 12, 16, 22, 24]\n",
            "87 % -> [1, 5, 6, 8, 9, 10, 11, 13, 14, 15, 17, 18, 21, 23, 24] || Números do concurso anterior: [8, 9, 10, 11, 15, 18, 24]\n",
            "99 % -> [1, 2, 3, 6, 7, 8, 10, 13, 14, 15, 17, 20, 21, 23, 24] || Números do concurso anterior: [2, 3, 7, 8, 10, 15, 24]\n",
            "80 % -> [1, 2, 5, 6, 7, 10, 12, 13, 14, 15, 16, 18, 20, 21, 23] || Números do concurso anterior: [2, 7, 10, 12, 15, 16, 18]\n"
          ],
          "name": "stdout"
        }
      ]
    },
    {
      "cell_type": "code",
      "metadata": {
        "id": "-dus0nVkfGZ_"
      },
      "source": [
        ""
      ],
      "execution_count": 50,
      "outputs": []
    }
  ]
}